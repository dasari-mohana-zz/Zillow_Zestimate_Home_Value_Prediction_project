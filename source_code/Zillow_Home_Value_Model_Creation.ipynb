{
 "cells": [
  {
   "cell_type": "markdown",
   "metadata": {},
   "source": [
    "# Model Creation\n",
    "\n",
    "                                                                                        Code Written By : Dasari Mohana\n",
    "                                                                                        \n",
    "We have done EDA and Feature Engineering on raw dataset and got final dataset with neccessary changes(removing duplicates, scaling the data, Multicolinearity, replacing null values, Removing outliers)"
   ]
  },
  {
   "cell_type": "code",
   "execution_count": 1,
   "metadata": {},
   "outputs": [],
   "source": [
    "import numpy as np\n",
    "import pandas as pd\n",
    "import seaborn as sns\n",
    "import matplotlib.pyplot as plt\n",
    "import warnings\n",
    "import xgboost\n",
    "\n",
    "from math import sqrt\n",
    "from sklearn.model_selection import train_test_split\n",
    "from sklearn.preprocessing import StandardScaler\n",
    "from sklearn.linear_model import LinearRegression, ElasticNet, Ridge, Lasso, SGDRegressor\n",
    "from sklearn.metrics import mean_squared_error, mean_absolute_error, r2_score\n",
    "from sklearn.ensemble import RandomForestRegressor, AdaBoostRegressor, GradientBoostingRegressor\n",
    "from sklearn.tree import DecisionTreeRegressor\n",
    "from sklearn.preprocessing import PolynomialFeatures\n",
    "from sklearn.model_selection import GridSearchCV\n",
    "from sklearn.model_selection import cross_val_score\n",
    "\n",
    "%matplotlib inline\n",
    "pd.set_option('display.max_columns',None)\n",
    "warnings.simplefilter(action='ignore')"
   ]
  },
  {
   "cell_type": "code",
   "execution_count": 2,
   "metadata": {},
   "outputs": [
    {
     "data": {
      "text/plain": [
       "(70260, 21)"
      ]
     },
     "execution_count": 2,
     "metadata": {},
     "output_type": "execute_result"
    }
   ],
   "source": [
    "df = pd.read_csv('final_zillow_dataset.csv')\n",
    "df.shape"
   ]
  },
  {
   "cell_type": "code",
   "execution_count": 3,
   "metadata": {},
   "outputs": [
    {
     "data": {
      "text/html": [
       "<div>\n",
       "<style scoped>\n",
       "    .dataframe tbody tr th:only-of-type {\n",
       "        vertical-align: middle;\n",
       "    }\n",
       "\n",
       "    .dataframe tbody tr th {\n",
       "        vertical-align: top;\n",
       "    }\n",
       "\n",
       "    .dataframe thead th {\n",
       "        text-align: right;\n",
       "    }\n",
       "</style>\n",
       "<table border=\"1\" class=\"dataframe\">\n",
       "  <thead>\n",
       "    <tr style=\"text-align: right;\">\n",
       "      <th></th>\n",
       "      <th>parcelid</th>\n",
       "      <th>bathroomcnt</th>\n",
       "      <th>bedroomcnt</th>\n",
       "      <th>buildingqualitytypeid</th>\n",
       "      <th>finishedsquarefeet12</th>\n",
       "      <th>fips</th>\n",
       "      <th>heatingorsystemtypeid</th>\n",
       "      <th>latitude</th>\n",
       "      <th>longitude</th>\n",
       "      <th>lotsizesquarefeet</th>\n",
       "      <th>propertylandusetypeid</th>\n",
       "      <th>rawcensustractandblock</th>\n",
       "      <th>regionidcity</th>\n",
       "      <th>regionidcounty</th>\n",
       "      <th>regionidzip</th>\n",
       "      <th>roomcnt</th>\n",
       "      <th>unitcnt</th>\n",
       "      <th>taxamount</th>\n",
       "      <th>logerror</th>\n",
       "      <th>yeardifference</th>\n",
       "      <th>propertyzoningdesc_labels</th>\n",
       "    </tr>\n",
       "  </thead>\n",
       "  <tbody>\n",
       "    <tr>\n",
       "      <th>0</th>\n",
       "      <td>10726315</td>\n",
       "      <td>3.0</td>\n",
       "      <td>3.0</td>\n",
       "      <td>4.0</td>\n",
       "      <td>2445.0</td>\n",
       "      <td>6037.0</td>\n",
       "      <td>2.0</td>\n",
       "      <td>34.184300</td>\n",
       "      <td>-118.657000</td>\n",
       "      <td>63878.0</td>\n",
       "      <td>266.0</td>\n",
       "      <td>60.371352</td>\n",
       "      <td>12447.0</td>\n",
       "      <td>3101.0</td>\n",
       "      <td>96389.0</td>\n",
       "      <td>0.0</td>\n",
       "      <td>1.0</td>\n",
       "      <td>7170.22</td>\n",
       "      <td>0.0383</td>\n",
       "      <td>33.0</td>\n",
       "      <td>627</td>\n",
       "    </tr>\n",
       "    <tr>\n",
       "      <th>1</th>\n",
       "      <td>10727091</td>\n",
       "      <td>2.0</td>\n",
       "      <td>3.0</td>\n",
       "      <td>7.0</td>\n",
       "      <td>1160.0</td>\n",
       "      <td>6037.0</td>\n",
       "      <td>2.0</td>\n",
       "      <td>34.188121</td>\n",
       "      <td>-118.646361</td>\n",
       "      <td>7688.0</td>\n",
       "      <td>261.0</td>\n",
       "      <td>60.371352</td>\n",
       "      <td>12447.0</td>\n",
       "      <td>3101.0</td>\n",
       "      <td>96342.0</td>\n",
       "      <td>0.0</td>\n",
       "      <td>1.0</td>\n",
       "      <td>5421.96</td>\n",
       "      <td>0.0030</td>\n",
       "      <td>55.0</td>\n",
       "      <td>638</td>\n",
       "    </tr>\n",
       "    <tr>\n",
       "      <th>2</th>\n",
       "      <td>10730788</td>\n",
       "      <td>2.0</td>\n",
       "      <td>4.0</td>\n",
       "      <td>7.0</td>\n",
       "      <td>1570.0</td>\n",
       "      <td>6037.0</td>\n",
       "      <td>2.0</td>\n",
       "      <td>34.188446</td>\n",
       "      <td>-118.616724</td>\n",
       "      <td>11308.0</td>\n",
       "      <td>261.0</td>\n",
       "      <td>60.371351</td>\n",
       "      <td>12447.0</td>\n",
       "      <td>3101.0</td>\n",
       "      <td>96342.0</td>\n",
       "      <td>0.0</td>\n",
       "      <td>1.0</td>\n",
       "      <td>5097.78</td>\n",
       "      <td>-0.0020</td>\n",
       "      <td>56.0</td>\n",
       "      <td>638</td>\n",
       "    </tr>\n",
       "    <tr>\n",
       "      <th>3</th>\n",
       "      <td>10735394</td>\n",
       "      <td>3.0</td>\n",
       "      <td>4.0</td>\n",
       "      <td>4.0</td>\n",
       "      <td>2863.0</td>\n",
       "      <td>6037.0</td>\n",
       "      <td>2.0</td>\n",
       "      <td>34.171439</td>\n",
       "      <td>-118.646883</td>\n",
       "      <td>16376.0</td>\n",
       "      <td>261.0</td>\n",
       "      <td>60.371373</td>\n",
       "      <td>12447.0</td>\n",
       "      <td>3101.0</td>\n",
       "      <td>96389.0</td>\n",
       "      <td>0.0</td>\n",
       "      <td>1.0</td>\n",
       "      <td>7475.21</td>\n",
       "      <td>0.0129</td>\n",
       "      <td>52.0</td>\n",
       "      <td>632</td>\n",
       "    </tr>\n",
       "    <tr>\n",
       "      <th>4</th>\n",
       "      <td>10743512</td>\n",
       "      <td>3.0</td>\n",
       "      <td>2.0</td>\n",
       "      <td>4.0</td>\n",
       "      <td>1394.0</td>\n",
       "      <td>6037.0</td>\n",
       "      <td>2.0</td>\n",
       "      <td>34.152890</td>\n",
       "      <td>-118.791494</td>\n",
       "      <td>77543.0</td>\n",
       "      <td>269.0</td>\n",
       "      <td>60.378003</td>\n",
       "      <td>34278.0</td>\n",
       "      <td>3101.0</td>\n",
       "      <td>96385.0</td>\n",
       "      <td>0.0</td>\n",
       "      <td>1.0</td>\n",
       "      <td>5550.36</td>\n",
       "      <td>0.0630</td>\n",
       "      <td>17.0</td>\n",
       "      <td>769</td>\n",
       "    </tr>\n",
       "  </tbody>\n",
       "</table>\n",
       "</div>"
      ],
      "text/plain": [
       "   parcelid  bathroomcnt  bedroomcnt  buildingqualitytypeid  \\\n",
       "0  10726315          3.0         3.0                    4.0   \n",
       "1  10727091          2.0         3.0                    7.0   \n",
       "2  10730788          2.0         4.0                    7.0   \n",
       "3  10735394          3.0         4.0                    4.0   \n",
       "4  10743512          3.0         2.0                    4.0   \n",
       "\n",
       "   finishedsquarefeet12    fips  heatingorsystemtypeid   latitude   longitude  \\\n",
       "0                2445.0  6037.0                    2.0  34.184300 -118.657000   \n",
       "1                1160.0  6037.0                    2.0  34.188121 -118.646361   \n",
       "2                1570.0  6037.0                    2.0  34.188446 -118.616724   \n",
       "3                2863.0  6037.0                    2.0  34.171439 -118.646883   \n",
       "4                1394.0  6037.0                    2.0  34.152890 -118.791494   \n",
       "\n",
       "   lotsizesquarefeet  propertylandusetypeid  rawcensustractandblock  \\\n",
       "0            63878.0                  266.0               60.371352   \n",
       "1             7688.0                  261.0               60.371352   \n",
       "2            11308.0                  261.0               60.371351   \n",
       "3            16376.0                  261.0               60.371373   \n",
       "4            77543.0                  269.0               60.378003   \n",
       "\n",
       "   regionidcity  regionidcounty  regionidzip  roomcnt  unitcnt  taxamount  \\\n",
       "0       12447.0          3101.0      96389.0      0.0      1.0    7170.22   \n",
       "1       12447.0          3101.0      96342.0      0.0      1.0    5421.96   \n",
       "2       12447.0          3101.0      96342.0      0.0      1.0    5097.78   \n",
       "3       12447.0          3101.0      96389.0      0.0      1.0    7475.21   \n",
       "4       34278.0          3101.0      96385.0      0.0      1.0    5550.36   \n",
       "\n",
       "   logerror  yeardifference  propertyzoningdesc_labels  \n",
       "0    0.0383            33.0                        627  \n",
       "1    0.0030            55.0                        638  \n",
       "2   -0.0020            56.0                        638  \n",
       "3    0.0129            52.0                        632  \n",
       "4    0.0630            17.0                        769  "
      ]
     },
     "execution_count": 3,
     "metadata": {},
     "output_type": "execute_result"
    }
   ],
   "source": [
    "df.head()"
   ]
  },
  {
   "cell_type": "markdown",
   "metadata": {},
   "source": [
    "### Splitting the dataset into Train-Test sets"
   ]
  },
  {
   "cell_type": "code",
   "execution_count": 4,
   "metadata": {},
   "outputs": [
    {
     "data": {
      "text/plain": [
       "((70260, 20), (70260,))"
      ]
     },
     "execution_count": 4,
     "metadata": {},
     "output_type": "execute_result"
    }
   ],
   "source": [
    "X = df.drop('logerror', axis=1)\n",
    "y = df['logerror']\n",
    "\n",
    "new_df = df.copy()\n",
    "\n",
    "print(X.shape, y.shape)"
   ]
  },
  {
   "cell_type": "code",
   "execution_count": 5,
   "metadata": {},
   "outputs": [
    {
     "data": {
      "text/plain": [
       "((52695, 20), (52695,), (17565, 20), (17565,))"
      ]
     },
     "execution_count": 5,
     "metadata": {},
     "output_type": "execute_result"
    }
   ],
   "source": [
    "X_train, X_test, y_train, y_test = train_test_split(X, y, test_size=0.25, random_state = 23)\n",
    "\n",
    "X_train.shape, y_train.shape, X_test.shape, y_test.shape"
   ]
  },
  {
   "cell_type": "markdown",
   "metadata": {},
   "source": [
    "### Feature Scaling"
   ]
  },
  {
   "cell_type": "code",
   "execution_count": 6,
   "metadata": {},
   "outputs": [
    {
     "data": {
      "text/plain": [
       "19"
      ]
     },
     "execution_count": 6,
     "metadata": {},
     "output_type": "execute_result"
    }
   ],
   "source": [
    "train_vars = [var for var in X_train.columns if var not in ['parcelid', 'logerror']]\n",
    "len(train_vars)"
   ]
  },
  {
   "cell_type": "code",
   "execution_count": 7,
   "metadata": {},
   "outputs": [],
   "source": [
    "scaler = StandardScaler()\n",
    "\n",
    "scaler.fit(X_train[train_vars]) \n",
    "\n",
    "X_train[train_vars] = scaler.transform(X_train[train_vars])\n",
    "\n",
    "X_test[train_vars] = scaler.transform(X_test[train_vars])"
   ]
  },
  {
   "cell_type": "code",
   "execution_count": 8,
   "metadata": {},
   "outputs": [
    {
     "data": {
      "text/html": [
       "<div>\n",
       "<style scoped>\n",
       "    .dataframe tbody tr th:only-of-type {\n",
       "        vertical-align: middle;\n",
       "    }\n",
       "\n",
       "    .dataframe tbody tr th {\n",
       "        vertical-align: top;\n",
       "    }\n",
       "\n",
       "    .dataframe thead th {\n",
       "        text-align: right;\n",
       "    }\n",
       "</style>\n",
       "<table border=\"1\" class=\"dataframe\">\n",
       "  <thead>\n",
       "    <tr style=\"text-align: right;\">\n",
       "      <th></th>\n",
       "      <th>parcelid</th>\n",
       "      <th>bathroomcnt</th>\n",
       "      <th>bedroomcnt</th>\n",
       "      <th>buildingqualitytypeid</th>\n",
       "      <th>finishedsquarefeet12</th>\n",
       "      <th>fips</th>\n",
       "      <th>heatingorsystemtypeid</th>\n",
       "      <th>latitude</th>\n",
       "      <th>longitude</th>\n",
       "      <th>lotsizesquarefeet</th>\n",
       "      <th>propertylandusetypeid</th>\n",
       "      <th>rawcensustractandblock</th>\n",
       "      <th>regionidcity</th>\n",
       "      <th>regionidcounty</th>\n",
       "      <th>regionidzip</th>\n",
       "      <th>roomcnt</th>\n",
       "      <th>unitcnt</th>\n",
       "      <th>taxamount</th>\n",
       "      <th>yeardifference</th>\n",
       "      <th>propertyzoningdesc_labels</th>\n",
       "    </tr>\n",
       "  </thead>\n",
       "  <tbody>\n",
       "    <tr>\n",
       "      <th>15602</th>\n",
       "      <td>10934030</td>\n",
       "      <td>1.039614</td>\n",
       "      <td>1.077319</td>\n",
       "      <td>-1.450606</td>\n",
       "      <td>1.368148</td>\n",
       "      <td>-0.672408</td>\n",
       "      <td>-0.526789</td>\n",
       "      <td>0.533872</td>\n",
       "      <td>-0.840819</td>\n",
       "      <td>-0.282457</td>\n",
       "      <td>-0.50568</td>\n",
       "      <td>-0.703341</td>\n",
       "      <td>-0.813301</td>\n",
       "      <td>0.672408</td>\n",
       "      <td>-1.208086</td>\n",
       "      <td>-0.439343</td>\n",
       "      <td>-0.081247</td>\n",
       "      <td>-0.954568</td>\n",
       "      <td>1.254891</td>\n",
       "      <td>-0.470974</td>\n",
       "    </tr>\n",
       "    <tr>\n",
       "      <th>27292</th>\n",
       "      <td>12116223</td>\n",
       "      <td>-1.441419</td>\n",
       "      <td>0.059583</td>\n",
       "      <td>0.629159</td>\n",
       "      <td>0.535918</td>\n",
       "      <td>-0.672408</td>\n",
       "      <td>-0.526789</td>\n",
       "      <td>0.674431</td>\n",
       "      <td>-0.036819</td>\n",
       "      <td>-0.267228</td>\n",
       "      <td>-0.50568</td>\n",
       "      <td>-0.671488</td>\n",
       "      <td>0.974128</td>\n",
       "      <td>0.672408</td>\n",
       "      <td>-0.604150</td>\n",
       "      <td>-0.439343</td>\n",
       "      <td>-0.081247</td>\n",
       "      <td>-0.737606</td>\n",
       "      <td>2.552634</td>\n",
       "      <td>1.686830</td>\n",
       "    </tr>\n",
       "    <tr>\n",
       "      <th>37134</th>\n",
       "      <td>11533593</td>\n",
       "      <td>-0.200903</td>\n",
       "      <td>0.059583</td>\n",
       "      <td>0.629159</td>\n",
       "      <td>-0.728171</td>\n",
       "      <td>-0.672408</td>\n",
       "      <td>1.921281</td>\n",
       "      <td>0.016094</td>\n",
       "      <td>-1.104821</td>\n",
       "      <td>-0.334003</td>\n",
       "      <td>-0.50568</td>\n",
       "      <td>-0.690187</td>\n",
       "      <td>-0.813301</td>\n",
       "      <td>0.672408</td>\n",
       "      <td>-1.213056</td>\n",
       "      <td>-0.439343</td>\n",
       "      <td>-0.081247</td>\n",
       "      <td>1.636555</td>\n",
       "      <td>0.779052</td>\n",
       "      <td>-0.470974</td>\n",
       "    </tr>\n",
       "    <tr>\n",
       "      <th>19660</th>\n",
       "      <td>13078527</td>\n",
       "      <td>-0.200903</td>\n",
       "      <td>1.077319</td>\n",
       "      <td>0.629159</td>\n",
       "      <td>-0.591716</td>\n",
       "      <td>-0.672408</td>\n",
       "      <td>-0.526789</td>\n",
       "      <td>0.122551</td>\n",
       "      <td>0.902323</td>\n",
       "      <td>-0.274704</td>\n",
       "      <td>-0.50568</td>\n",
       "      <td>-0.677385</td>\n",
       "      <td>0.333907</td>\n",
       "      <td>0.672408</td>\n",
       "      <td>-0.032524</td>\n",
       "      <td>-0.439343</td>\n",
       "      <td>-0.081247</td>\n",
       "      <td>-0.229807</td>\n",
       "      <td>0.173439</td>\n",
       "      <td>2.541898</td>\n",
       "    </tr>\n",
       "    <tr>\n",
       "      <th>19926</th>\n",
       "      <td>12163237</td>\n",
       "      <td>-0.200903</td>\n",
       "      <td>-0.958153</td>\n",
       "      <td>0.629159</td>\n",
       "      <td>-0.860129</td>\n",
       "      <td>-0.672408</td>\n",
       "      <td>-0.526789</td>\n",
       "      <td>0.764055</td>\n",
       "      <td>-0.126408</td>\n",
       "      <td>-0.311506</td>\n",
       "      <td>-0.50568</td>\n",
       "      <td>-0.671698</td>\n",
       "      <td>0.103886</td>\n",
       "      <td>0.672408</td>\n",
       "      <td>-0.671254</td>\n",
       "      <td>-0.439343</td>\n",
       "      <td>-0.081247</td>\n",
       "      <td>-0.688036</td>\n",
       "      <td>1.903762</td>\n",
       "      <td>0.161445</td>\n",
       "    </tr>\n",
       "  </tbody>\n",
       "</table>\n",
       "</div>"
      ],
      "text/plain": [
       "       parcelid  bathroomcnt  bedroomcnt  buildingqualitytypeid  \\\n",
       "15602  10934030     1.039614    1.077319              -1.450606   \n",
       "27292  12116223    -1.441419    0.059583               0.629159   \n",
       "37134  11533593    -0.200903    0.059583               0.629159   \n",
       "19660  13078527    -0.200903    1.077319               0.629159   \n",
       "19926  12163237    -0.200903   -0.958153               0.629159   \n",
       "\n",
       "       finishedsquarefeet12      fips  heatingorsystemtypeid  latitude  \\\n",
       "15602              1.368148 -0.672408              -0.526789  0.533872   \n",
       "27292              0.535918 -0.672408              -0.526789  0.674431   \n",
       "37134             -0.728171 -0.672408               1.921281  0.016094   \n",
       "19660             -0.591716 -0.672408              -0.526789  0.122551   \n",
       "19926             -0.860129 -0.672408              -0.526789  0.764055   \n",
       "\n",
       "       longitude  lotsizesquarefeet  propertylandusetypeid  \\\n",
       "15602  -0.840819          -0.282457               -0.50568   \n",
       "27292  -0.036819          -0.267228               -0.50568   \n",
       "37134  -1.104821          -0.334003               -0.50568   \n",
       "19660   0.902323          -0.274704               -0.50568   \n",
       "19926  -0.126408          -0.311506               -0.50568   \n",
       "\n",
       "       rawcensustractandblock  regionidcity  regionidcounty  regionidzip  \\\n",
       "15602               -0.703341     -0.813301        0.672408    -1.208086   \n",
       "27292               -0.671488      0.974128        0.672408    -0.604150   \n",
       "37134               -0.690187     -0.813301        0.672408    -1.213056   \n",
       "19660               -0.677385      0.333907        0.672408    -0.032524   \n",
       "19926               -0.671698      0.103886        0.672408    -0.671254   \n",
       "\n",
       "        roomcnt   unitcnt  taxamount  yeardifference  \\\n",
       "15602 -0.439343 -0.081247  -0.954568        1.254891   \n",
       "27292 -0.439343 -0.081247  -0.737606        2.552634   \n",
       "37134 -0.439343 -0.081247   1.636555        0.779052   \n",
       "19660 -0.439343 -0.081247  -0.229807        0.173439   \n",
       "19926 -0.439343 -0.081247  -0.688036        1.903762   \n",
       "\n",
       "       propertyzoningdesc_labels  \n",
       "15602                  -0.470974  \n",
       "27292                   1.686830  \n",
       "37134                  -0.470974  \n",
       "19660                   2.541898  \n",
       "19926                   0.161445  "
      ]
     },
     "execution_count": 8,
     "metadata": {},
     "output_type": "execute_result"
    }
   ],
   "source": [
    "X_train.head()"
   ]
  },
  {
   "cell_type": "markdown",
   "metadata": {},
   "source": [
    "### Dropping parcelid as it does not serve purpose for model prediction "
   ]
  },
  {
   "cell_type": "code",
   "execution_count": 9,
   "metadata": {},
   "outputs": [],
   "source": [
    "X_train_new = X_train.copy()\n",
    "X_test_new = X_test.copy()\n",
    "\n",
    "X_train.drop(columns='parcelid', axis=1, inplace=True)\n",
    "X_test.drop(columns='parcelid', axis=1, inplace=True)"
   ]
  },
  {
   "cell_type": "markdown",
   "metadata": {},
   "source": [
    "## Linear Regression Model"
   ]
  },
  {
   "cell_type": "code",
   "execution_count": 10,
   "metadata": {},
   "outputs": [
    {
     "data": {
      "text/plain": [
       "LinearRegression()"
      ]
     },
     "execution_count": 10,
     "metadata": {},
     "output_type": "execute_result"
    }
   ],
   "source": [
    "linear_reg = LinearRegression()\n",
    "\n",
    "linear_reg.fit(X_train, y_train)"
   ]
  },
  {
   "cell_type": "code",
   "execution_count": 11,
   "metadata": {},
   "outputs": [
    {
     "name": "stdout",
     "output_type": "stream",
     "text": [
      "Mean Absolute Error : 0.05271290201314923\n",
      "\n",
      "Mean Squared Error : 0.007219676292818219\n",
      "\n",
      "Root Mean Squared Error : 0.08496867830452713\n"
     ]
    }
   ],
   "source": [
    "linear_reg_pred = linear_reg.predict(X_test)\n",
    "\n",
    "print('Mean Absolute Error : {}'.format(mean_absolute_error(y_test, linear_reg_pred)))\n",
    "print()\n",
    "print('Mean Squared Error : {}'.format(mean_squared_error(y_test, linear_reg_pred)))\n",
    "print()\n",
    "print('Root Mean Squared Error : {}'.format(sqrt(mean_squared_error(y_test, linear_reg_pred))))"
   ]
  },
  {
   "cell_type": "markdown",
   "metadata": {},
   "source": [
    "## Elastic Net Model"
   ]
  },
  {
   "cell_type": "code",
   "execution_count": 12,
   "metadata": {},
   "outputs": [
    {
     "data": {
      "text/plain": [
       "ElasticNet(alpha=0.1)"
      ]
     },
     "execution_count": 12,
     "metadata": {},
     "output_type": "execute_result"
    }
   ],
   "source": [
    "elastic_net = ElasticNet(alpha=0.1, l1_ratio=0.5) # L1 reguralization\n",
    "\n",
    "elastic_net.fit(X_train, y_train)"
   ]
  },
  {
   "cell_type": "code",
   "execution_count": 13,
   "metadata": {},
   "outputs": [
    {
     "name": "stdout",
     "output_type": "stream",
     "text": [
      "Mean Absolute Error : 0.052772037640842616\n",
      "\n",
      "Mean Squared Error : 0.007263564946868809\n",
      "\n",
      "Root Mean Squared Error : 0.08522655071554175\n"
     ]
    }
   ],
   "source": [
    "elastic_net_pred = elastic_net.predict(X_test)\n",
    "\n",
    "print('Mean Absolute Error : {}'.format(mean_absolute_error(y_test, elastic_net_pred)))\n",
    "print()\n",
    "print('Mean Squared Error : {}'.format(mean_squared_error(y_test, elastic_net_pred)))\n",
    "print()\n",
    "print('Root Mean Squared Error : {}'.format(sqrt(mean_squared_error(y_test, elastic_net_pred))))"
   ]
  },
  {
   "cell_type": "markdown",
   "metadata": {},
   "source": [
    "## Ridge Regression Model"
   ]
  },
  {
   "cell_type": "code",
   "execution_count": 14,
   "metadata": {},
   "outputs": [
    {
     "data": {
      "text/plain": [
       "Ridge(alpha=1, solver='cholesky')"
      ]
     },
     "execution_count": 14,
     "metadata": {},
     "output_type": "execute_result"
    }
   ],
   "source": [
    "ridge_reg = Ridge(alpha=1, solver='cholesky')\n",
    "\n",
    "ridge_reg.fit(X_train, y_train)"
   ]
  },
  {
   "cell_type": "code",
   "execution_count": 15,
   "metadata": {},
   "outputs": [
    {
     "name": "stdout",
     "output_type": "stream",
     "text": [
      "Mean Absolute Error : 0.05271298978108195\n",
      "\n",
      "Mean Squared Error : 0.0072190878626148345\n",
      "\n",
      "Root Mean Squared Error : 0.08496521560388601\n"
     ]
    }
   ],
   "source": [
    "ridge_reg_pred = ridge_reg.predict(X_test)\n",
    "\n",
    "print('Mean Absolute Error : {}'.format(mean_absolute_error(y_test, ridge_reg_pred)))\n",
    "print()\n",
    "print('Mean Squared Error : {}'.format(mean_squared_error(y_test, ridge_reg_pred)))\n",
    "print()\n",
    "print('Root Mean Squared Error : {}'.format(sqrt(mean_squared_error(y_test, ridge_reg_pred))))"
   ]
  },
  {
   "cell_type": "markdown",
   "metadata": {},
   "source": [
    "## Lasso Regression Model"
   ]
  },
  {
   "cell_type": "code",
   "execution_count": 16,
   "metadata": {},
   "outputs": [
    {
     "data": {
      "text/plain": [
       "Lasso(alpha=0.1)"
      ]
     },
     "execution_count": 16,
     "metadata": {},
     "output_type": "execute_result"
    }
   ],
   "source": [
    "lasso_reg = Lasso(alpha=0.1)\n",
    "\n",
    "lasso_reg.fit(X_train, y_train)"
   ]
  },
  {
   "cell_type": "code",
   "execution_count": 17,
   "metadata": {},
   "outputs": [
    {
     "name": "stdout",
     "output_type": "stream",
     "text": [
      "Mean Absolute Error : 0.052772037640842616\n",
      "\n",
      "Mean Squared Error : 0.007263564946868809\n",
      "\n",
      "Root Mean Squared Error : 0.08522655071554175\n"
     ]
    }
   ],
   "source": [
    "lasso_reg_pred = lasso_reg.predict(X_test)\n",
    "\n",
    "print('Mean Absolute Error : {}'.format(mean_absolute_error(y_test, lasso_reg_pred)))\n",
    "print()\n",
    "print('Mean Squared Error : {}'.format(mean_squared_error(y_test, lasso_reg_pred)))\n",
    "print()\n",
    "print('Root Mean Squared Error : {}'.format(sqrt(mean_squared_error(y_test, lasso_reg_pred))))"
   ]
  },
  {
   "cell_type": "markdown",
   "metadata": {},
   "source": [
    "## XG Boost Regression Model"
   ]
  },
  {
   "cell_type": "code",
   "execution_count": 18,
   "metadata": {},
   "outputs": [
    {
     "data": {
      "text/plain": [
       "XGBRegressor(base_score=0.5, booster='gbtree', colsample_bylevel=1,\n",
       "             colsample_bynode=1, colsample_bytree=1, gamma=0, gpu_id=-1,\n",
       "             importance_type='gain', interaction_constraints='',\n",
       "             learning_rate=0.300000012, max_delta_step=0, max_depth=6,\n",
       "             min_child_weight=1, missing=nan, monotone_constraints='()',\n",
       "             n_estimators=100, n_jobs=4, num_parallel_tree=1, random_state=0,\n",
       "             reg_alpha=0, reg_lambda=1, scale_pos_weight=1, subsample=1,\n",
       "             tree_method='exact', validate_parameters=1, verbosity=None)"
      ]
     },
     "execution_count": 18,
     "metadata": {},
     "output_type": "execute_result"
    }
   ],
   "source": [
    "xgb_reg = xgboost.XGBRegressor()\n",
    "\n",
    "xgb_reg.fit(X_train, y_train)"
   ]
  },
  {
   "cell_type": "code",
   "execution_count": 19,
   "metadata": {},
   "outputs": [
    {
     "name": "stdout",
     "output_type": "stream",
     "text": [
      "Mean Absolute Error : 0.05380005751526278\n",
      "\n",
      "Mean Squared Error : 0.007353353803794397\n",
      "\n",
      "Root Mean Squared Error : 0.08575169854757629\n"
     ]
    }
   ],
   "source": [
    "xgb_reg_pred = xgb_reg.predict(X_test)\n",
    "\n",
    "print('Mean Absolute Error : {}'.format(mean_absolute_error(y_test, xgb_reg_pred)))\n",
    "print()\n",
    "print('Mean Squared Error : {}'.format(mean_squared_error(y_test, xgb_reg_pred)))\n",
    "print()\n",
    "print('Root Mean Squared Error : {}'.format(sqrt(mean_squared_error(y_test, xgb_reg_pred))))"
   ]
  },
  {
   "cell_type": "markdown",
   "metadata": {},
   "source": [
    "## Ada Boost Regression Model"
   ]
  },
  {
   "cell_type": "code",
   "execution_count": 20,
   "metadata": {},
   "outputs": [
    {
     "data": {
      "text/plain": [
       "AdaBoostRegressor()"
      ]
     },
     "execution_count": 20,
     "metadata": {},
     "output_type": "execute_result"
    }
   ],
   "source": [
    "adaboost_reg = AdaBoostRegressor()\n",
    "\n",
    "adaboost_reg.fit(X_train, y_train)"
   ]
  },
  {
   "cell_type": "code",
   "execution_count": 21,
   "metadata": {},
   "outputs": [
    {
     "name": "stdout",
     "output_type": "stream",
     "text": [
      "Mean Absolute Error : 0.05676752363007214\n",
      "\n",
      "Mean Squared Error : 0.0075389292853823555\n",
      "\n",
      "Root Mean Squared Error : 0.08682700781083243\n"
     ]
    }
   ],
   "source": [
    "adaboost_reg_pred = adaboost_reg.predict(X_test)\n",
    "\n",
    "print('Mean Absolute Error : {}'.format(mean_absolute_error(y_test, adaboost_reg_pred)))\n",
    "print()\n",
    "print('Mean Squared Error : {}'.format(mean_squared_error(y_test, adaboost_reg_pred)))\n",
    "print()\n",
    "print('Root Mean Squared Error : {}'.format(sqrt(mean_squared_error(y_test, adaboost_reg_pred))))"
   ]
  },
  {
   "cell_type": "markdown",
   "metadata": {},
   "source": [
    "## Gradient Boosting Regression Model"
   ]
  },
  {
   "cell_type": "code",
   "execution_count": 22,
   "metadata": {},
   "outputs": [
    {
     "data": {
      "text/plain": [
       "GradientBoostingRegressor()"
      ]
     },
     "execution_count": 22,
     "metadata": {},
     "output_type": "execute_result"
    }
   ],
   "source": [
    "gb_reg = GradientBoostingRegressor()\n",
    "\n",
    "gb_reg.fit(X_train, y_train)"
   ]
  },
  {
   "cell_type": "code",
   "execution_count": 23,
   "metadata": {},
   "outputs": [
    {
     "name": "stdout",
     "output_type": "stream",
     "text": [
      "Mean Absolute Error : 0.05256208156829912\n",
      "\n",
      "Mean Squared Error : 0.007179126861416838\n",
      "\n",
      "Root Mean Squared Error : 0.08472972832139165\n"
     ]
    }
   ],
   "source": [
    "gb_reg_pred = gb_reg.predict(X_test)\n",
    "\n",
    "print('Mean Absolute Error : {}'.format(mean_absolute_error(y_test, gb_reg_pred)))\n",
    "print()\n",
    "print('Mean Squared Error : {}'.format(mean_squared_error(y_test, gb_reg_pred)))\n",
    "print()\n",
    "print('Root Mean Squared Error : {}'.format(sqrt(mean_squared_error(y_test, gb_reg_pred))))"
   ]
  },
  {
   "cell_type": "markdown",
   "metadata": {},
   "source": [
    "## Decision Tree Regressor"
   ]
  },
  {
   "cell_type": "code",
   "execution_count": 24,
   "metadata": {},
   "outputs": [
    {
     "data": {
      "text/plain": [
       "DecisionTreeRegressor(max_depth=5)"
      ]
     },
     "execution_count": 24,
     "metadata": {},
     "output_type": "execute_result"
    }
   ],
   "source": [
    "tree_reg = DecisionTreeRegressor(max_depth=5)\n",
    "\n",
    "tree_reg.fit(X_train, y_train)"
   ]
  },
  {
   "cell_type": "code",
   "execution_count": 25,
   "metadata": {},
   "outputs": [
    {
     "name": "stdout",
     "output_type": "stream",
     "text": [
      "Mean Absolute Error : 0.05291405344779044\n",
      "\n",
      "Mean Squared Error : 0.007261957829150837\n",
      "\n",
      "Root Mean Squared Error : 0.08521712169013242\n"
     ]
    }
   ],
   "source": [
    "tree_reg_pred = tree_reg.predict(X_test)\n",
    "\n",
    "print('Mean Absolute Error : {}'.format(mean_absolute_error(y_test, tree_reg_pred)))\n",
    "print()\n",
    "print('Mean Squared Error : {}'.format(mean_squared_error(y_test, tree_reg_pred)))\n",
    "print()\n",
    "print('Root Mean Squared Error : {}'.format(sqrt(mean_squared_error(y_test, tree_reg_pred))))"
   ]
  },
  {
   "cell_type": "markdown",
   "metadata": {},
   "source": [
    "## Random Forest Regression Model"
   ]
  },
  {
   "cell_type": "code",
   "execution_count": 26,
   "metadata": {},
   "outputs": [
    {
     "data": {
      "text/plain": [
       "RandomForestRegressor(max_depth=6, n_estimators=500)"
      ]
     },
     "execution_count": 26,
     "metadata": {},
     "output_type": "execute_result"
    }
   ],
   "source": [
    "forest_reg = RandomForestRegressor(n_estimators= 500, max_depth=6)\n",
    "\n",
    "forest_reg.fit(X_train, y_train)"
   ]
  },
  {
   "cell_type": "code",
   "execution_count": 27,
   "metadata": {},
   "outputs": [
    {
     "name": "stdout",
     "output_type": "stream",
     "text": [
      "Mean Absolute Error : 0.052493979086337225\n",
      "\n",
      "Mean Squared Error : 0.0071765998987079645\n",
      "\n",
      "Root Mean Squared Error : 0.08471481510755934\n"
     ]
    }
   ],
   "source": [
    "forest_reg_pred = forest_reg.predict(X_test)\n",
    "\n",
    "print('Mean Absolute Error : {}'.format(mean_absolute_error(y_test, forest_reg_pred)))\n",
    "print()\n",
    "print('Mean Squared Error : {}'.format(mean_squared_error(y_test, forest_reg_pred)))\n",
    "print()\n",
    "print('Root Mean Squared Error : {}'.format(sqrt(mean_squared_error(y_test, forest_reg_pred))))"
   ]
  },
  {
   "cell_type": "markdown",
   "metadata": {},
   "source": [
    "## Cross Validation & Hyperparameter Optimization for Random Forest"
   ]
  },
  {
   "cell_type": "code",
   "execution_count": 28,
   "metadata": {},
   "outputs": [],
   "source": [
    "scores = cross_val_score(forest_reg, X_train, y_train, scoring=\"neg_mean_squared_error\", cv = 5)"
   ]
  },
  {
   "cell_type": "code",
   "execution_count": 29,
   "metadata": {},
   "outputs": [
    {
     "data": {
      "text/plain": [
       "array([0.08603316, 0.08501659, 0.08290164, 0.0832188 , 0.08450688])"
      ]
     },
     "execution_count": 29,
     "metadata": {},
     "output_type": "execute_result"
    }
   ],
   "source": [
    "forest_reg_rmse_scores = np.sqrt(-scores)\n",
    "forest_reg_rmse_scores"
   ]
  },
  {
   "cell_type": "code",
   "execution_count": 30,
   "metadata": {},
   "outputs": [],
   "source": [
    "param_grid = [\n",
    "    {'n_estimators': [300, 400, 500], 'max_features': [2, 4, 6]},\n",
    "    {'bootstrap': [False], 'n_estimators': [300, 400, 500], 'max_features': [2, 4, 6]}]\n",
    "\n",
    "forest_regressor = RandomForestRegressor()\n",
    "\n",
    "grid_search = GridSearchCV(forest_regressor, param_grid, scoring='neg_mean_squared_error',return_train_score=True,cv=3)"
   ]
  },
  {
   "cell_type": "code",
   "execution_count": 31,
   "metadata": {},
   "outputs": [
    {
     "data": {
      "text/plain": [
       "GridSearchCV(cv=3, estimator=RandomForestRegressor(),\n",
       "             param_grid=[{'max_features': [2, 4, 6],\n",
       "                          'n_estimators': [300, 400, 500]},\n",
       "                         {'bootstrap': [False], 'max_features': [2, 4, 6],\n",
       "                          'n_estimators': [300, 400, 500]}],\n",
       "             return_train_score=True, scoring='neg_mean_squared_error')"
      ]
     },
     "execution_count": 31,
     "metadata": {},
     "output_type": "execute_result"
    }
   ],
   "source": [
    "grid_search.fit(X_train, y_train)"
   ]
  },
  {
   "cell_type": "code",
   "execution_count": 32,
   "metadata": {},
   "outputs": [
    {
     "data": {
      "text/plain": [
       "{'max_features': 4, 'n_estimators': 400}"
      ]
     },
     "execution_count": 32,
     "metadata": {},
     "output_type": "execute_result"
    }
   ],
   "source": [
    "grid_search.best_params_"
   ]
  },
  {
   "cell_type": "code",
   "execution_count": 33,
   "metadata": {},
   "outputs": [
    {
     "data": {
      "text/plain": [
       "RandomForestRegressor(max_features=4, n_estimators=400)"
      ]
     },
     "execution_count": 33,
     "metadata": {},
     "output_type": "execute_result"
    }
   ],
   "source": [
    "grid_search.best_estimator_"
   ]
  },
  {
   "cell_type": "code",
   "execution_count": 35,
   "metadata": {},
   "outputs": [],
   "source": [
    "final_predictor = grid_search.best_estimator_\n",
    "final_predictor.fit(X_train, y_train)\n",
    "final_pred = final_predictor.predict(X_test)"
   ]
  },
  {
   "cell_type": "code",
   "execution_count": 36,
   "metadata": {},
   "outputs": [
    {
     "name": "stdout",
     "output_type": "stream",
     "text": [
      "Mean Absolute Error : 0.0548705301060865\n",
      "\n",
      "Mean Squared Error : 0.007400295260520292\n",
      "\n",
      "Root Mean Squared Error : 0.08602496882022273\n"
     ]
    }
   ],
   "source": [
    "print('Mean Absolute Error : {}'.format(mean_absolute_error(y_test, final_pred)))\n",
    "print()\n",
    "print('Mean Squared Error : {}'.format(mean_squared_error(y_test, final_pred)))\n",
    "print()\n",
    "print('Root Mean Squared Error : {}'.format(sqrt(mean_squared_error(y_test, final_pred))))"
   ]
  },
  {
   "cell_type": "markdown",
   "metadata": {},
   "source": [
    "## Feature importance"
   ]
  },
  {
   "cell_type": "code",
   "execution_count": 37,
   "metadata": {},
   "outputs": [
    {
     "data": {
      "text/plain": [
       "[('unitcnt', 0.14040615200665663),\n",
       " ('taxamount', 0.09130069345797628),\n",
       " ('roomcnt', 0.0015609032588653922),\n",
       " ('regionidzip', 0.008357667884179286),\n",
       " ('regionidcounty', 0.059049163834885586),\n",
       " ('regionidcity', 0.0009523510814962),\n",
       " ('rawcensustractandblock', 0.030844984329222235),\n",
       " ('propertylandusetypeid', 0.07946690719058498),\n",
       " ('parcelid', 0.023641002820564777),\n",
       " ('lotsizesquarefeet', 0.008677886840809414),\n",
       " ('longitude', 0.1109836767557538),\n",
       " ('logerror', 0.048932900132720544),\n",
       " ('latitude', 0.11430406832176654),\n",
       " ('heatingorsystemtypeid', 0.11542963001723361),\n",
       " ('fips', 0.009994615270457963),\n",
       " ('finishedsquarefeet12', 0.0010039810716131004),\n",
       " ('buildingqualitytypeid', 0.11671937521605583),\n",
       " ('bedroomcnt', 0.008630208122532842),\n",
       " ('bathroomcnt', 0.029743832386624945)]"
      ]
     },
     "execution_count": 37,
     "metadata": {},
     "output_type": "execute_result"
    }
   ],
   "source": [
    "feature_importances = grid_search.best_estimator_.feature_importances_\n",
    "\n",
    "attrs = list(df.select_dtypes(include = ['float64','int64']))\n",
    "\n",
    "sorted(zip(attrs, feature_importances), reverse=True)"
   ]
  },
  {
   "cell_type": "markdown",
   "metadata": {},
   "source": [
    "## Saving Predictions"
   ]
  },
  {
   "cell_type": "code",
   "execution_count": 38,
   "metadata": {},
   "outputs": [
    {
     "data": {
      "text/html": [
       "<div>\n",
       "<style scoped>\n",
       "    .dataframe tbody tr th:only-of-type {\n",
       "        vertical-align: middle;\n",
       "    }\n",
       "\n",
       "    .dataframe tbody tr th {\n",
       "        vertical-align: top;\n",
       "    }\n",
       "\n",
       "    .dataframe thead th {\n",
       "        text-align: right;\n",
       "    }\n",
       "</style>\n",
       "<table border=\"1\" class=\"dataframe\">\n",
       "  <thead>\n",
       "    <tr style=\"text-align: right;\">\n",
       "      <th></th>\n",
       "      <th>parcelid</th>\n",
       "      <th>logerror</th>\n",
       "    </tr>\n",
       "  </thead>\n",
       "  <tbody>\n",
       "    <tr>\n",
       "      <th>11056</th>\n",
       "      <td>11923769</td>\n",
       "      <td>0.018472</td>\n",
       "    </tr>\n",
       "    <tr>\n",
       "      <th>20399</th>\n",
       "      <td>14196198</td>\n",
       "      <td>0.005623</td>\n",
       "    </tr>\n",
       "    <tr>\n",
       "      <th>51034</th>\n",
       "      <td>12408039</td>\n",
       "      <td>0.004737</td>\n",
       "    </tr>\n",
       "    <tr>\n",
       "      <th>41560</th>\n",
       "      <td>10931254</td>\n",
       "      <td>0.021955</td>\n",
       "    </tr>\n",
       "    <tr>\n",
       "      <th>69896</th>\n",
       "      <td>14665147</td>\n",
       "      <td>-0.034711</td>\n",
       "    </tr>\n",
       "  </tbody>\n",
       "</table>\n",
       "</div>"
      ],
      "text/plain": [
       "       parcelid  logerror\n",
       "11056  11923769  0.018472\n",
       "20399  14196198  0.005623\n",
       "51034  12408039  0.004737\n",
       "41560  10931254  0.021955\n",
       "69896  14665147 -0.034711"
      ]
     },
     "execution_count": 38,
     "metadata": {},
     "output_type": "execute_result"
    }
   ],
   "source": [
    "model_pred = pd.DataFrame({'parcelid':X_test_new.parcelid, 'logerror':final_pred})\n",
    "model_pred.to_csv('model-predictions.csv',index=False)\n",
    "model_pred.head()"
   ]
  },
  {
   "cell_type": "markdown",
   "metadata": {},
   "source": [
    "# Conclusion\n",
    "\n",
    "1. After Pre-processing and Feature Engineering the raw dataset we splitted the dataset into train and test sets.\n",
    "\n",
    "2. Performed Feature scaling on data for better performance.\n",
    "\n",
    "3. Trained multiple models using different ML regression algorithms on dataset.\n",
    "\n",
    "4. Appleied Performance metrics such as MAE, MSE, RMSE to find out best prediction model.\n",
    "\n",
    "5. With the help of GridSearch CV we found out best estimator with least Root mean squred error. \n",
    "\n",
    "6. Done prediction on test data and saved predictions into .csv file."
   ]
  }
 ],
 "metadata": {
  "kernelspec": {
   "display_name": "Python 3",
   "language": "python",
   "name": "python3"
  },
  "language_info": {
   "codemirror_mode": {
    "name": "ipython",
    "version": 3
   },
   "file_extension": ".py",
   "mimetype": "text/x-python",
   "name": "python",
   "nbconvert_exporter": "python",
   "pygments_lexer": "ipython3",
   "version": "3.8.8"
  }
 },
 "nbformat": 4,
 "nbformat_minor": 4
}
